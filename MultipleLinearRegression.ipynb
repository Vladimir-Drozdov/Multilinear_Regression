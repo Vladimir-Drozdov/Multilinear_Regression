{
 "cells": [
  {
   "cell_type": "code",
   "execution_count": 1,
   "id": "f13ad1ef-f572-44e0-91ff-9eaa8e17b418",
   "metadata": {},
   "outputs": [
    {
     "name": "stdout",
     "output_type": "stream",
     "text": [
      "   X1 transaction date  X2 house age  X3 distance to the nearest MRT station  \\\n",
      "0             2012.917          32.0                                84.87882   \n",
      "1             2012.917          19.5                               306.59470   \n",
      "2             2013.583          13.3                               561.98450   \n",
      "3             2013.500          13.3                               561.98450   \n",
      "4             2012.833           5.0                               390.56840   \n",
      "5             2012.667           7.1                              2175.03000   \n",
      "6             2012.667          34.5                               623.47310   \n",
      "7             2013.417          20.3                               287.60250   \n",
      "8             2013.500          31.7                              5512.03800   \n",
      "9             2013.417          17.9                              1783.18000   \n",
      "\n",
      "   X4 number of convenience stores  X5 latitude  X6 longitude  \\\n",
      "0                               10     24.98298     121.54024   \n",
      "1                                9     24.98034     121.53951   \n",
      "2                                5     24.98746     121.54391   \n",
      "3                                5     24.98746     121.54391   \n",
      "4                                5     24.97937     121.54245   \n",
      "5                                3     24.96305     121.51254   \n",
      "6                                7     24.97933     121.53642   \n",
      "7                                6     24.98042     121.54228   \n",
      "8                                1     24.95095     121.48458   \n",
      "9                                3     24.96731     121.51486   \n",
      "\n",
      "   Y house price of unit area  \n",
      "0                        37.9  \n",
      "1                        42.2  \n",
      "2                        47.3  \n",
      "3                        54.8  \n",
      "4                        43.1  \n",
      "5                        32.1  \n",
      "6                        40.3  \n",
      "7                        46.7  \n",
      "8                        18.8  \n",
      "9                        22.1  \n"
     ]
    }
   ],
   "source": [
    "import os\n",
    "import pandas as pd\n",
    "archive_path = \"./archive/Real estate.csv\"\n",
    "dataset = pd.read_csv(archive_path)\n",
    "dataset = dataset.drop(dataset.columns[0], axis=1)\n",
    "print(dataset.head(10))"
   ]
  },
  {
   "cell_type": "code",
   "execution_count": 2,
   "id": "aab40763-5d9f-468d-969c-5764e38a4ead",
   "metadata": {},
   "outputs": [
    {
     "name": "stdout",
     "output_type": "stream",
     "text": [
      "(414, 7)\n"
     ]
    }
   ],
   "source": [
    "print(dataset.shape)"
   ]
  },
  {
   "cell_type": "code",
   "execution_count": 3,
   "id": "190e6fea-1d78-4d55-8bad-b94bfa6e867a",
   "metadata": {},
   "outputs": [
    {
     "name": "stdout",
     "output_type": "stream",
     "text": [
      "Среднеквадратичная ошибка (MSE): 45.01\n",
      "Коэффициент детерминации (R^2): 0.70\n",
      "Коэффициенты модели: [ 5.71714218e+00 -2.49326467e-01 -4.93769843e-03  1.07614509e+00\n",
      "  2.27037100e+02 -3.56988335e+01]\n",
      "Свободный член: -12796.117684899287\n"
     ]
    }
   ],
   "source": [
    "import numpy as np\n",
    "import matplotlib.pyplot as plt\n",
    "import pandas as pd\n",
    "import seaborn as sns\n",
    "from sklearn.preprocessing import StandardScaler, PolynomialFeatures, FunctionTransformer\n",
    "from sklearn.pipeline import Pipeline\n",
    "\n",
    "from sklearn.model_selection import train_test_split, GridSearchCV,  RandomizedSearchCV\n",
    "from sklearn.linear_model import LinearRegression\n",
    "from sklearn.metrics import mean_squared_error, r2_score\n",
    "import matplotlib.pyplot as plt\n",
    "X = dataset.iloc[:, :-1]\n",
    "y = dataset.iloc[:, -1]\n",
    "X_train, X_test, y_train, y_test = train_test_split(X, y, test_size = 0.2, random_state = 1)\n",
    "# Создаем модель линейной регрессии\n",
    "model = LinearRegression()\n",
    "# Обучаем модель на тренировочных данных\n",
    "model.fit(X_train, y_train)\n",
    "# Делаем предсказания на тестовых данных\n",
    "y_pred = model.predict(X_test)\n",
    "# Вычисляем метрики качества модели\n",
    "mse = mean_squared_error(y_test, y_pred)\n",
    "r2 = r2_score(y_test, y_pred)\n",
    "# Выводим результаты\n",
    "print(f\"Среднеквадратичная ошибка (MSE): {mse:.2f}\")\n",
    "print(f\"Коэффициент детерминации (R^2): {r2:.2f}\")\n",
    "# Выводим полученные коэффициенты модели\n",
    "print(f\"Коэффициенты модели: {model.coef_}\")\n",
    "print(f\"Свободный член: {model.intercept_}\")"
   ]
  },
  {
   "cell_type": "code",
   "execution_count": 4,
   "id": "ad882196-fecd-4c9e-afbb-4429caaf4994",
   "metadata": {},
   "outputs": [
    {
     "data": {
      "image/png": "[encoded data removed]",
      "text/plain": [
       "<Figure size 640x480 with 1 Axes>"
      ]
     },
     "metadata": {},
     "output_type": "display_data"
    }
   ],
   "source": [
    "plt.scatter(y_test, y_pred, alpha=0.7, edgecolors='k')  \n",
    "    \n",
    "min_val = min(y_test.min(), y_pred.min())  \n",
    "max_val = max(y_test.max(), y_pred.max()) \n",
    "plt.plot([min_val, max_val], [min_val, max_val], 'r--')  \n",
    "plt.title('Actual vs Predicted') \n",
    "plt.xlabel('Actual Values')        \n",
    "plt.ylabel('Predicted Values')    \n",
    "\n",
    "plt.tight_layout()\n",
    "plt.show()"
   ]
  },
  {
   "cell_type": "code",
   "execution_count": 5,
   "id": "350a26de-00e7-472f-a8b9-d9fe9ff006f6",
   "metadata": {},
   "outputs": [
    {
     "name": "stdout",
     "output_type": "stream",
     "text": [
      "[[35. 27.]\n",
      " [47. 54.]\n",
      " [21. 22.]\n",
      " [12. 12.]\n",
      " [43. 45.]\n",
      " [35. 23.]\n",
      " [31. 22.]\n",
      " [46. 32.]\n",
      " [38. 37.]\n",
      " [14. 23.]\n",
      " [12. 17.]\n",
      " [38. 37.]\n",
      " [32. 23.]\n",
      " [45. 37.]\n",
      " [51. 56.]\n",
      " [36. 21.]\n",
      " [44. 44.]\n",
      " [45. 40.]\n",
      " [30. 28.]\n",
      " [44. 42.]\n",
      " [52. 47.]\n",
      " [28. 22.]\n",
      " [40. 38.]\n",
      " [47. 54.]\n",
      " [46. 57.]\n",
      " [28. 27.]\n",
      " [31. 32.]\n",
      " [48. 57.]\n",
      " [46. 43.]\n",
      " [15. 17.]\n",
      " [34. 33.]\n",
      " [35. 34.]\n",
      " [42. 40.]\n",
      " [45. 52.]\n",
      " [48. 47.]\n",
      " [13. 13.]\n",
      " [41. 38.]\n",
      " [41. 32.]\n",
      " [39. 42.]\n",
      " [13. 20.]\n",
      " [39. 40.]\n",
      " [24. 16.]\n",
      " [55. 58.]\n",
      " [37. 33.]\n",
      " [35. 31.]\n",
      " [39. 22.]\n",
      " [31. 21.]\n",
      " [40. 42.]\n",
      " [46. 38.]\n",
      " [34. 40.]\n",
      " [11. 19.]\n",
      " [44. 44.]\n",
      " [45. 40.]\n",
      " [14. 15.]\n",
      " [49. 51.]\n",
      " [42. 36.]\n",
      " [44. 52.]\n",
      " [39. 38.]\n",
      " [38. 26.]\n",
      " [40. 42.]\n",
      " [25. 13.]\n",
      " [40. 33.]\n",
      " [35. 29.]\n",
      " [13. 19.]\n",
      " [40. 43.]\n",
      " [45. 32.]\n",
      " [39. 43.]\n",
      " [47. 42.]\n",
      " [14. 16.]\n",
      " [40. 44.]\n",
      " [48. 44.]\n",
      " [ 9. 16.]\n",
      " [34. 30.]\n",
      " [40. 24.]\n",
      " [50. 50.]\n",
      " [38. 37.]\n",
      " [36. 31.]\n",
      " [38. 37.]\n",
      " [41. 33.]\n",
      " [48. 60.]\n",
      " [46. 41.]\n",
      " [41. 52.]\n",
      " [46. 47.]]\n"
     ]
    }
   ],
   "source": [
    "np.set_printoptions(precision=0)\n",
    "print(np.concatenate((y_pred.reshape(len(y_pred),1), y_test.values.reshape(len(y_test),1)),1))\n",
    "#сначала предсказанное значение, потом истинное значение"
   ]
  },
  {
   "cell_type": "markdown",
   "id": "d08ebf92-fd4c-4e6c-9ebb-589a24822d7d",
   "metadata": {},
   "source": [
    "## Difference in Fits\n"
   ]
  },
  {
   "cell_type": "code",
   "execution_count": 9,
   "id": "91052585-50e7-4fcc-9888-ec08919b16ea",
   "metadata": {},
   "outputs": [
    {
     "name": "stdout",
     "output_type": "stream",
     "text": [
      "индексы аномальных данных  [8, 9, 16, 17, 27, 30, 31, 40, 59, 60, 67, 76, 79, 89, 97, 104, 126, 131, 134, 138, 140, 145, 151, 155, 156, 161, 162, 170, 171, 181, 183, 191, 209, 210, 216, 260, 265, 268, 276, 288, 292]\n",
      "Среднеквадратичная ошибка (MSE): 41.91\n",
      "Коэффициент детерминации (R^2): 0.72\n",
      "Коэффициенты модели: [ 4.e+00 -3.e-01 -5.e-03  1.e+00  2.e+02 -5.e+01]\n",
      "Свободный член: -6822.11929874137\n"
     ]
    }
   ],
   "source": [
    "# Метод Difference in Fits\n",
    "import math\n",
    "X = dataset.iloc[:, :-1]\n",
    "y = dataset.iloc[:, -1]\n",
    "X_train, X_test, y_train, y_test = train_test_split(X, y, test_size = 0.2, random_state = 1)\n",
    "n=X_train.shape[0]\n",
    "k=6\n",
    "value=2*math.sqrt((k+2)/(n-k-2))\n",
    "influential_indexes=[]\n",
    "def hii(X_j,X_train):\n",
    "    X_train_values = X_train.values\n",
    "    X_i = X_j.values.flatten()\n",
    "    hi=np.dot(X_i,np.linalg.inv(X_train_values.T.dot(X_train_values)))\n",
    "    hii=np.dot(hi,X_i)\n",
    "    return hii\n",
    "def difference_in_fits(y_train, y_test, X_train, X_test):\n",
    "    for j in range(0, n):\n",
    "        # Обучаем модель на тренировочных данных\n",
    "        # Сохраняем i-ю строку для последующего предсказания\n",
    "        X_j = X_train.iloc[[j]]\n",
    "        \n",
    "        hi = hii(X_j, X_train)\n",
    "        y_j = y_train.iloc[[j]]        \n",
    "        # Делаем предсказания на тестовых данных\n",
    "        y_with_j = model.predict(X_j)        \n",
    "        # Удаляем j-ю строку из данных\n",
    "        X_train_with_drop = X_train.drop(X_train.index[j])\n",
    "        y_train_with_drop = y_train.drop(y_train.index[j])\n",
    "        \n",
    "        # Обучаем модель заново без i-й точки\n",
    "        model.fit(X_train_with_drop, y_train_with_drop)\n",
    "        \n",
    "        # Делаем предсказания на тестовых данных без учета i-й точки\n",
    "        y_without_j = model.predict(X_j) \n",
    "        # Вычисляем разницу между предсказанными значениями\n",
    "        diff = y_with_j - y_without_j\n",
    "        model.fit(X_train_with_drop, y_train_with_drop)\n",
    "        y_pred = model.predict(X_test)\n",
    "        \n",
    "        mse = mean_squared_error(y_test, y_pred)\n",
    "        DFFITS=diff/(math.sqrt(mse * hi))\n",
    "        if abs(DFFITS)>value:\n",
    "            influential_indexes.append(j)\n",
    "    return influential_indexes\n",
    "\n",
    "anomaly_indices = difference_in_fits(y_train, y_test, X_train, X_test)\n",
    "print(\"индексы аномальных данных \", anomaly_indices)\n",
    "# Удалим аномалии из y_test и X_test\n",
    "y_train_filtered = y_train.drop(y_train.index[anomaly_indices])\n",
    "X_train_filtered = X_train.drop(X_train.index[anomaly_indices])\n",
    "# Создаем модель линейной регрессии\n",
    "model = LinearRegression()\n",
    "\n",
    "# Обучаем модель на тренировочных данных\n",
    "model.fit(X_train_filtered, y_train_filtered)\n",
    "\n",
    "# Делаем предсказания на тестовых данных\n",
    "y_pred = model.predict(X_test)\n",
    "\n",
    "# Вычисляем метрики качества модели\n",
    "mse = mean_squared_error(y_test, y_pred)\n",
    "r2 = r2_score(y_test, y_pred)\n",
    "\n",
    "\n",
    "# Выводим результаты\n",
    "print(f\"Среднеквадратичная ошибка (MSE): {mse:.2f}\")\n",
    "print(f\"Коэффициент детерминации (R^2): {r2:.2f}\")\n",
    "# Выводим полученные коэффициенты модели\n",
    "print(f\"Коэффициенты модели: {model.coef_}\")\n",
    "print(f\"Свободный член: {model.intercept_}\")\n",
    "\n"
   ]
  },
  {
   "cell_type": "code",
   "execution_count": null,
   "id": "33993d9b-d4ff-48a3-a5d5-1ce0297045c2",
   "metadata": {},
   "outputs": [],
   "source": []
  }
 ],
 "metadata": {
  "kernelspec": {
   "display_name": "Python 3 (ipykernel)",
   "language": "python",
   "name": "python3"
  },
  "language_info": {
   "codemirror_mode": {
    "name": "ipython",
    "version": 3
   },
   "file_extension": ".py",
   "mimetype": "text/x-python",
   "name": "python",
   "nbconvert_exporter": "python",
   "pygments_lexer": "ipython3",
   "version": "3.11.5"
  }
 },
 "nbformat": 4,
 "nbformat_minor": 5
}
